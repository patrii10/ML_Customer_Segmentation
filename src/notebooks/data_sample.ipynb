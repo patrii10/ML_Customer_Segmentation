{
 "cells": [
  {
   "cell_type": "code",
   "execution_count": 4,
   "metadata": {},
   "outputs": [
    {
     "name": "stdout",
     "output_type": "stream",
     "text": [
      "Muestra creada\n"
     ]
    }
   ],
   "source": [
    "import pandas as pd  \n",
    "\n",
    "df = pd.read_csv(r\"C:\\Users\\patri\\REPO_PRUEBA\\ML_Customer_Segmentation\\src\\data_sample\\Wholesale customers data.csv\")  # Reemplaza con la ubicación real  \n",
    "\n",
    "df_sample = df.sample(n=50, random_state=42)  # 50 filas aleatorias  \n",
    "\n",
    "df_sample.to_csv(\"src/data_sample/wholesale_customers_sample.csv\", index=False)  \n",
    "\n",
    "print(\"Muestra creada\")\n"
   ]
  }
 ],
 "metadata": {
  "kernelspec": {
   "display_name": "Python 3",
   "language": "python",
   "name": "python3"
  },
  "language_info": {
   "codemirror_mode": {
    "name": "ipython",
    "version": 3
   },
   "file_extension": ".py",
   "mimetype": "text/x-python",
   "name": "python",
   "nbconvert_exporter": "python",
   "pygments_lexer": "ipython3",
   "version": "3.12.7"
  }
 },
 "nbformat": 4,
 "nbformat_minor": 2
}
